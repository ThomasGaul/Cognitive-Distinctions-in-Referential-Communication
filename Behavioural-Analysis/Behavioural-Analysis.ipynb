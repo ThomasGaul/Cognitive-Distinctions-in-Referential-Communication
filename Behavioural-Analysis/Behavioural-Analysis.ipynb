{
 "cells": [
  {
   "cell_type": "markdown",
   "metadata": {},
   "source": [
    "This notebook analyses the behaviour and parameter space of nine unique agents."
   ]
  },
  {
   "cell_type": "code",
   "execution_count": null,
   "metadata": {},
   "outputs": [],
   "source": [
    "BaseDirectory = \"BASE//PATH//TO//ReferComm\"\n",
    "import os\n",
    "os.chdir(BaseDirectory)\n",
    "\n",
    "import numpy as np\n",
    "import pandas as pd\n",
    "import matplotlib as mpl\n",
    "import matplotlib.pyplot as plt\n",
    "\n",
    "import DataHandler\n",
    "import importlib\n",
    "importlib.reload(DataHandler)\n",
    "\n",
    "from DataHandler import *"
   ]
  },
  {
   "cell_type": "markdown",
   "metadata": {},
   "source": [
    "# Behaviour"
   ]
  },
  {
   "cell_type": "markdown",
   "metadata": {},
   "source": [
    "Load Data"
   ]
  },
  {
   "cell_type": "code",
   "execution_count": null,
   "metadata": {},
   "outputs": [],
   "source": [
    "# load activation and plot data for all agents\n",
    "# this cell takes ~100s to evaluate\n",
    "unq = []\n",
    "for a in range(9):\n",
    "    unq.append(Data(BaseDirectory,maxP=2,popidx=a+1,perm=[0]))\n",
    "    for p in [1,3]:\n",
    "        unq[a].LoadSenderActivation(perm=p,phase=1)\n",
    "        unq[a].LoadSenderActivation(perm=p,phase=2)\n",
    "        unq[a].LoadReceiverActivation(perm=p,phase=2)\n",
    "        unq[a].LoadReceiverActivation(perm=p,phase=3)\n",
    "        unq[a].LoadSenderPosition2D(perm=p,phase=1)\n",
    "        unq[a].LoadSenderPosition2D(perm=p,phase=2)\n",
    "        unq[a].LoadReceiverPosition2D(perm=p,phase=2)\n",
    "        unq[a].LoadReceiverPosition2D(perm=p,phase=3)\n",
    "        unq[a].LoadPosts2D(perm=p,phase=1)\n",
    "        unq[a].LoadPosts2D(perm=p,phase=3)\n",
    "        unq[a].LoadContact2D(perm=p,phase=1)\n",
    "        unq[a].LoadContact2D(perm=p,phase=2)\n",
    "        unq[a].LoadContact2D(perm=p,phase=3)\n",
    "    # additional permutations for search phase\n",
    "    for p in [2,4]:\n",
    "        unq[a].LoadReceiverPosition2D(perm=p,phase=3)\n",
    "        unq[a].LoadReceiverActivation(perm=p,phase=3)\n",
    "        unq[a].LoadContact2D(perm=p,phase=3)\n",
    "        unq[a].LoadPosts2D(perm=p,phase=3)"
   ]
  },
  {
   "cell_type": "markdown",
   "metadata": {},
   "source": [
    "### Visual Summary of Communication Strategies"
   ]
  },
  {
   "cell_type": "markdown",
   "metadata": {},
   "source": [
    "#### Position Activation Correspondence"
   ]
  },
  {
   "cell_type": "markdown",
   "metadata": {},
   "source": [
    "Senders in Transient Phase"
   ]
  },
  {
   "cell_type": "code",
   "execution_count": null,
   "metadata": {},
   "outputs": [],
   "source": [
    "fig, axs = plt.subplots(9,4,figsize=(10,15),sharey=\"col\",sharex=\"all\")\n",
    "\n",
    "for a in range(9):\n",
    "    axs[a,0] = unq[a].PlotSenderActivation(axs[a,0],perm=1,phase=1)\n",
    "    axs[a,0].vlines(unq[a].ContactPoints2D[0][0].get_path().vertices[:,0],0,1,colors=[1,0,0],linewidth=.5)\n",
    "    axs[a,1] = unq[a].PlotSenderPosition2D(axs[a,1],perm=1,phase=1)\n",
    "    axs[a,1] = unq[a].PlotPosts2D(axs[a,1],perm=1,phase=1)\n",
    "    axs[a,1] = unq[a].PlotContact2D(axs[a,1],perm=1,phase=1)\n",
    "    axs[a,1].set_ylim([0,200*np.pi])\n",
    "    \n",
    "    axs[a,2] = unq[a].PlotSenderActivation(axs[a,2],perm=3,phase=1)\n",
    "    axs[a,2].vlines(unq[a].ContactPoints2D[2][0].get_path().vertices[:,0],0,1,colors=[1,0,0],linewidth=.5)\n",
    "    axs[a,3] = unq[a].PlotSenderPosition2D(axs[a,3],perm=3,phase=1)\n",
    "    axs[a,3] = unq[a].PlotPosts2D(axs[a,3],perm=3,phase=1)\n",
    "    axs[a,3] = unq[a].PlotContact2D(axs[a,3],perm=3,phase=1)\n",
    "    axs[a,3].set_ylim([0,200*np.pi])\n",
    "    \n",
    "    axs[a,0].set_ylabel(\"Agent \"+str(a+1))\n",
    "\n",
    "axs[0,0].set_yticks([])\n",
    "axs[0,1].set_yticks([])\n",
    "axs[0,2].set_yticks([])\n",
    "axs[0,3].set_yticks([])\n",
    "axs[8,0].set_xticks([])\n",
    "axs[0,2].legend(bbox_to_anchor=[0.5,1.3],ncols=5,fontsize=8)\n",
    "axs[8,0].set_xlabel(\"Permutation 1\")\n",
    "axs[8,1].set_xlabel(\"Permutation 1\")\n",
    "axs[8,2].set_xlabel(\"Permutation 3\")\n",
    "axs[8,3].set_xlabel(\"Permutation 3\")\n",
    "\n",
    "fig.subplots_adjust(wspace=.05,hspace=.05)\n",
    "plt.show()"
   ]
  },
  {
   "cell_type": "markdown",
   "metadata": {},
   "source": [
    "Receivers in Communication Phase"
   ]
  },
  {
   "cell_type": "code",
   "execution_count": null,
   "metadata": {},
   "outputs": [],
   "source": [
    "fig, axs = plt.subplots(9,4,figsize=(10,15),sharey=\"col\",sharex=\"all\")\n",
    "\n",
    "for a in range(9):\n",
    "    axs[a,0] = unq[a].PlotReceiverActivation(axs[a,0],perm=1,phase=2)\n",
    "    axs[a,0].vlines(unq[a].ContactPoints2D[0][1].get_path().vertices[:,0],0,1,colors=[1,0,0],linewidth=.5)\n",
    "    axs[a,1] = unq[a].PlotSenderPosition2D(axs[a,1],perm=1,phase=2)\n",
    "    axs[a,1] = unq[a].PlotReceiverPosition2D(axs[a,1],perm=1,phase=2)\n",
    "    axs[a,1] = unq[a].PlotContact2D(axs[a,1],perm=1,phase=2)\n",
    "    \n",
    "    axs[a,2] = unq[a].PlotReceiverActivation(axs[a,2],perm=3,phase=2)\n",
    "    axs[a,2].vlines(unq[a].ContactPoints2D[2][1].get_path().vertices[:,0],0,1,colors=[1,0,0],linewidth=.5)\n",
    "    axs[a,3] = unq[a].PlotSenderPosition2D(axs[a,3],perm=3,phase=2)\n",
    "    axs[a,3] = unq[a].PlotReceiverPosition2D(axs[a,3],perm=3,phase=2)\n",
    "    axs[a,3] = unq[a].PlotContact2D(axs[a,3],perm=3,phase=2)\n",
    "\n",
    "    axs[a,0].set_ylabel(\"Agent \"+str(a+1))\n",
    "\n",
    "axs[0,1].set_ylim([0,200*np.pi])\n",
    "axs[0,3].set_ylim([0,200*np.pi])\n",
    "axs[0,0].set_yticks([])\n",
    "axs[0,1].set_yticks([])\n",
    "axs[0,2].set_yticks([])\n",
    "axs[0,3].set_yticks([])\n",
    "axs[8,0].set_xticks([])\n",
    "axs[0,2].legend(bbox_to_anchor=[.9,1.3],ncols=5,fontsize=8)\n",
    "axs[8,0].set_xlabel(\"Permutation 1\")\n",
    "axs[8,1].set_xlabel(\"Permutation 1\")\n",
    "axs[8,2].set_xlabel(\"Permutation 3\")\n",
    "axs[8,3].set_xlabel(\"Permutation 3\")\n",
    "\n",
    "fig.subplots_adjust(wspace=.05,hspace=.05)\n",
    "plt.show()"
   ]
  },
  {
   "cell_type": "markdown",
   "metadata": {},
   "source": [
    "Senders in Communication Phase"
   ]
  },
  {
   "cell_type": "code",
   "execution_count": null,
   "metadata": {},
   "outputs": [],
   "source": [
    "fig, axs = plt.subplots(9,4,figsize=(10,15),sharey=\"col\",sharex=\"all\")\n",
    "\n",
    "for a in range(9):\n",
    "    axs[a,0] = unq[a].PlotSenderActivation(axs[a,0],perm=1,phase=2)\n",
    "    axs[a,0].vlines(unq[a].ContactPoints2D[0][1].get_path().vertices[:,0],0,1,colors=[1,0,0],linewidth=.5)\n",
    "    axs[a,1] = unq[a].PlotSenderPosition2D(axs[a,1],perm=1,phase=2)\n",
    "    axs[a,1] = unq[a].PlotReceiverPosition2D(axs[a,1],perm=1,phase=2)\n",
    "    axs[a,1] = unq[a].PlotContact2D(axs[a,1],perm=1,phase=2)\n",
    "    \n",
    "    axs[a,2] = unq[a].PlotSenderActivation(axs[a,2],perm=3,phase=2)\n",
    "    axs[a,2].vlines(unq[a].ContactPoints2D[2][1].get_path().vertices[:,0],0,1,colors=[1,0,0],linewidth=.5)\n",
    "    axs[a,3] = unq[a].PlotSenderPosition2D(axs[a,3],perm=3,phase=2)\n",
    "    axs[a,3] = unq[a].PlotReceiverPosition2D(axs[a,3],perm=3,phase=2)\n",
    "    axs[a,3] = unq[a].PlotContact2D(axs[a,3],perm=3,phase=2)\n",
    "\n",
    "    axs[a,0].set_ylabel(\"Agent \"+str(a+1))\n",
    "\n",
    "axs[0,1].set_ylim([0,200*np.pi])\n",
    "axs[0,3].set_ylim([0,200*np.pi])\n",
    "axs[0,0].set_yticks([])\n",
    "axs[0,1].set_yticks([])\n",
    "axs[0,2].set_yticks([])\n",
    "axs[0,3].set_yticks([])\n",
    "axs[8,0].set_xticks([])\n",
    "axs[0,2].legend(bbox_to_anchor=[.9,1.3],ncols=5,fontsize=8)\n",
    "axs[8,0].set_xlabel(\"Permutation 1\")\n",
    "axs[8,1].set_xlabel(\"Permutation 1\")\n",
    "axs[8,2].set_xlabel(\"Permutation 3\")\n",
    "axs[8,3].set_xlabel(\"Permutation 3\")\n",
    "\n",
    "fig.subplots_adjust(wspace=.05,hspace=.05)\n",
    "plt.show()"
   ]
  },
  {
   "cell_type": "markdown",
   "metadata": {},
   "source": [
    "Receivers in Search Phase"
   ]
  },
  {
   "cell_type": "code",
   "execution_count": null,
   "metadata": {},
   "outputs": [],
   "source": [
    "fig, axs = plt.subplots(18,4,figsize=(10,30),sharey=\"row\",sharex=\"all\")\n",
    "\n",
    "for a in range(9):\n",
    "    axs[2*a,0] = unq[a].PlotReceiverActivation(axs[2*a,0],perm=1,phase=3)\n",
    "    axs[2*a,0].vlines(unq[a].ContactPoints2D[0][2].get_path().vertices[:,0],0,1,colors=[1,0,0],linewidth=.5)\n",
    "    axs[2*a,1] = unq[a].PlotReceiverActivation(axs[2*a,1],perm=2,phase=3)\n",
    "    axs[2*a,1].vlines(unq[a].ContactPoints2D[1][2].get_path().vertices[:,0],0,1,colors=[1,0,0],linewidth=.5)\n",
    "    \n",
    "    axs[2*a,2] = unq[a].PlotReceiverActivation(axs[2*a,2],perm=3,phase=3)\n",
    "    axs[2*a,2].vlines(unq[a].ContactPoints2D[2][2].get_path().vertices[:,0],0,1,colors=[1,0,0],linewidth=.5)\n",
    "    axs[2*a,3] = unq[a].PlotReceiverActivation(axs[2*a,3],perm=4,phase=3)\n",
    "    axs[2*a,3].vlines(unq[a].ContactPoints2D[3][2].get_path().vertices[:,0],0,1,colors=[1,0,0],linewidth=.5)\n",
    "    \n",
    "    for i in range(4):\n",
    "        axs[2*a+1,i] = unq[a].PlotReceiverPosition2D(axs[2*a+1,i],perm=i+1,phase=3)\n",
    "        axs[2*a+1,i] = unq[a].PlotPosts2D(axs[2*a+1,i],perm=i+1,phase=3)\n",
    "        axs[2*a+1,i] = unq[a].PlotContact2D(axs[2*a+1,i],perm=i+1,phase=3)\n",
    "    axs[2*a+0,0].set_yticks([])\n",
    "    axs[2*a+1,0].set_ylim([0,200*np.pi])\n",
    "    axs[2*a+1,0].set_yticks([])\n",
    "    \n",
    "    axs[2*a,0].set_ylabel(\"Agent \"+str(a+1))\n",
    "    axs[2*a+1,0].set_ylabel(\"Agent \"+str(a+1))\n",
    "\n",
    "axs[0,0].set_xticks([])\n",
    "axs[0,1].legend(bbox_to_anchor=[1.5,1.3],ncols=5,fontsize=8)\n",
    "axs[8,0].set_xlabel(\"Permutation 1\")\n",
    "axs[8,1].set_xlabel(\"Permutation 2\")\n",
    "axs[8,2].set_xlabel(\"Permutation 3\")\n",
    "axs[8,3].set_xlabel(\"Permutation 4\")\n",
    "\n",
    "fig.subplots_adjust(wspace=.05,hspace=.05)\n",
    "plt.show()"
   ]
  },
  {
   "cell_type": "markdown",
   "metadata": {},
   "source": [
    "### Communication Analysis"
   ]
  },
  {
   "cell_type": "markdown",
   "metadata": {},
   "source": [
    "Communication Patterns in $S=\\{2,5,8\\}$"
   ]
  },
  {
   "cell_type": "code",
   "execution_count": null,
   "metadata": {},
   "outputs": [],
   "source": [
    "agents = []\n",
    "i = 0\n",
    "for a in [2,5,8]:\n",
    "    agents.append(Data(BaseDirectory,maxP=2,popidx=a,perm=[1,3]))\n",
    "    agents[i].LoadContact2D(perm=1,phase=2)\n",
    "    agents[i].LoadContact2D(perm=3,phase=2)"
   ]
  },
  {
   "cell_type": "code",
   "execution_count": null,
   "metadata": {},
   "outputs": [],
   "source": [
    "fig, axs = plt.subplots(2,3,figsize=(10,4),sharex=\"all\",sharey=\"all\")\n",
    "\n",
    "err = .04\n",
    "i = 0\n",
    "for a in agents:\n",
    "    for p in range(2):\n",
    "        ax = axs[p,i]\n",
    "        prev_s = 0\n",
    "        prev_r = 0\n",
    "        s = a.Sender[p][1][\"Position\"]\n",
    "        r = a.Receiver[p][0][\"Position\"]\n",
    "        time = a.Time[1]\n",
    "        for t in range(len(time)):\n",
    "            if s[t] < err or s[t] > np.pi*200-err:\n",
    "                ax.add_line(Line2D(time[prev_s:t-1],s[prev_s:t-1],c=[0,0,1]))\n",
    "                # ax.vlines(time[t],0,200*np.pi,colors=[0,0,1],linestyles=':')\n",
    "                prev_s = t+1\n",
    "            if r[t] < err or r[t] > np.pi*200-err:\n",
    "                ax.add_line(Line2D(time[prev_r:t-1],r[prev_r:t-1],c=[1,.418,.706]))\n",
    "                # ax.vlines(time[t],0,200*np.pi,colors=[1,.418,.706],linestyles=':')\n",
    "                prev_r = t+1\n",
    "            continue\n",
    "        ax.add_line(Line2D(time[prev_s:t],s[prev_s:t],c=[0,0,1]))\n",
    "        ax.add_line(Line2D(time[prev_r:t],r[prev_r:t],c=[1,.418,.706]))\n",
    "        # ax = a.PlotContact2D(ax,perm=1+2*p,phase=2)\n",
    "\n",
    "    i += 1\n",
    "\n",
    "axs[0,0].set_ylim(0,200*np.pi)\n",
    "\n",
    "for i in range(3):\n",
    "    axs[1,i].set_xticks(np.arange(0,301,100),\n",
    "        labels=np.arange(0,301,100),fontsize=8)\n",
    "\n",
    "axs[0,0].set_yticks(np.linspace(0,200*np.pi,5),\n",
    "    labels=[\"$0$\",\"$\\pi/2$\",\"$\\pi$\",\"$3\\pi/2$\",\"$2\\pi$\"],\n",
    "    fontsize=8)\n",
    "axs[1,0].set_yticks(np.linspace(0,200*np.pi,5),\n",
    "    labels=[\"$0$\",\"$\\pi/2$\",\"$\\pi$\",\"$3\\pi/2$\",\"$2\\pi$\"],\n",
    "    fontsize=8)\n",
    "\n",
    "\n",
    "fig.supxlabel(\"Time\",fontsize=10)\n",
    "fig.supylabel(\"Position\",fontsize=10,x=.07)\n",
    "fig.subplots_adjust(hspace=.15,wspace=.1)\n",
    "\n",
    "# os.chdir(BaseDirectory)\n",
    "# fig.savefig(fname=\"./Plots/s258-position.pdf\",format=\"pdf\",bbox_inches='tight',dpi=600)\n",
    "# fig.savefig(fname=\"./Plots/s258-position.jpeg\",bbox_inches='tight',dpi=600)\n",
    "plt.show()"
   ]
  },
  {
   "cell_type": "markdown",
   "metadata": {},
   "source": [
    "Intricate Interaction in $S=5$"
   ]
  },
  {
   "cell_type": "code",
   "execution_count": null,
   "metadata": {},
   "outputs": [],
   "source": [
    "# load data\n",
    "s5 = Data(BaseDirectory,maxP=2,popidx=5,perm=[1,3])\n",
    "s5.LoadSenderPosition2D(perm=3,phase=2)\n",
    "s5.LoadReceiverPosition2D(perm=3,phase=2)"
   ]
  },
  {
   "cell_type": "code",
   "execution_count": null,
   "metadata": {},
   "outputs": [],
   "source": [
    "# permutation 1\n",
    "\n",
    "fig = plt.figure(figsize=(4,2))\n",
    "\n",
    "ax = fig.add_subplot(1,1,1)\n",
    "err = .04\n",
    "prev_s = 0\n",
    "prev_r = 0\n",
    "s = s5.Sender[0][1][\"Position\"]\n",
    "r = s5.Receiver[0][0][\"Position\"]\n",
    "time = s5.Time[1]\n",
    "for t in range(len(time)):\n",
    "    if s[t] < err or s[t] > np.pi*200-err:\n",
    "        ax.add_line(Line2D(time[prev_s:t-1],s[prev_s:t-1],c=[0,0,1]))\n",
    "        prev_s = t+1\n",
    "    if r[t] < err or r[t] > np.pi*200-err:\n",
    "        ax.add_line(Line2D(time[prev_r:t-1],r[prev_r:t-1],c=[1,.418,.706]))\n",
    "        prev_r = t+1\n",
    "    continue\n",
    "ax.add_line(Line2D(time[prev_s:t],s[prev_s:t],c=[0,0,1]))\n",
    "ax.add_line(Line2D(time[prev_r:t],r[prev_r:t],c=[1,.418,.706]))\n",
    "\n",
    "ax.set_xticks(np.arange(0,301,50))\n",
    "ax.set_yticks(np.linspace(0,200*np.pi,5),\n",
    "    labels=[\"$0$\",\"$\\pi/2$\",\"$\\pi$\",\"$3\\pi/2$\",\"$2\\pi$\"],\n",
    "    fontsize=8)\n",
    "ax.tick_params(labelsize=8)\n",
    "ax.set_xlabel(\"Time\",fontsize=10)\n",
    "ax.set_ylabel(\"Position\",fontsize=10)\n",
    "\n",
    "# os.chdir(BaseDirectory)\n",
    "# fig.savefig('./Plots/S5-p1-position.pdf',format=\"pdf\",bbox_inches=\"tight\",dpi=600)\n",
    "# fig.savefig('./Plots/S5-p1-position.jpeg',bbox_inches=\"tight\",dpi=600)\n",
    "plt.show()"
   ]
  },
  {
   "cell_type": "code",
   "execution_count": null,
   "metadata": {},
   "outputs": [],
   "source": [
    "# permutation 3\n",
    "\n",
    "fig = plt.figure(figsize=(4,2))\n",
    "\n",
    "ax = fig.add_subplot(1,1,1)\n",
    "prev_s = 0\n",
    "prev_r = 0\n",
    "s = s5.Sender[1][1][\"Position\"]\n",
    "r = s5.Receiver[1][0][\"Position\"]\n",
    "time = s5.Time[1]\n",
    "for t in range(len(time)):\n",
    "    if s[t] < err or s[t] > np.pi*200-err:\n",
    "        ax.add_line(Line2D(time[prev_s:t-1],s[prev_s:t-1],c=[0,0,1]))\n",
    "        prev_s = t+1\n",
    "    if r[t] < err or r[t] > np.pi*200-err:\n",
    "        ax.add_line(Line2D(time[prev_r:t-1],r[prev_r:t-1],c=[1,.418,.706]))\n",
    "        prev_r = t+1\n",
    "    continue\n",
    "ax.add_line(Line2D(time[prev_s:t],s[prev_s:t],c=[0,0,1]))\n",
    "ax.add_line(Line2D(time[prev_r:t],r[prev_r:t],c=[1,.418,.706]))\n",
    "\n",
    "axz = ax.inset_axes([.1,.2,.3,.4])\n",
    "axz = s5.PlotReceiverPosition2D(axz,perm=3,phase=2)\n",
    "axz = s5.PlotSenderPosition2D(axz,perm=3,phase=2)\n",
    "axz.set_ylim(395,425)\n",
    "axz.set_xlim(105,120)\n",
    "axz.set_yticks([])\n",
    "axz.set_xticks(np.arange(105,121,5))\n",
    "axz.tick_params(labelsize=6,length=2)\n",
    "\n",
    "ax.indicate_inset_zoom(axz, edgecolor=\"black\")\n",
    "\n",
    "ax.set_xticks(np.arange(0,301,50))\n",
    "ax.set_yticks(np.linspace(0,200*np.pi,5),\n",
    "    labels=[\"$0$\",\"$\\pi/2$\",\"$\\pi$\",\"$3\\pi/2$\",\"$2\\pi$\"],\n",
    "    fontsize=8)\n",
    "ax.tick_params(labelsize=8)\n",
    "ax.set_xlabel(\"Time\",fontsize=10)\n",
    "ax.set_ylabel(\"Position\",fontsize=10)\n",
    "\n",
    "# os.chdir(BaseDirectory)\n",
    "# fig.savefig('./Plots/S5-p3-position.pdf',format=\"pdf\",bbox_inches=\"tight\",dpi=600)\n",
    "# fig.savefig('./Plots/S5-p3-position.jpeg',bbox_inches=\"tight\",dpi=600)\n",
    "plt.show()"
   ]
  },
  {
   "cell_type": "markdown",
   "metadata": {},
   "source": [
    "#### Solutions by Contact and Type"
   ]
  },
  {
   "cell_type": "code",
   "execution_count": null,
   "metadata": {},
   "outputs": [],
   "source": [
    "# load data for each population\n",
    "pop = []\n",
    "for a in range(9):\n",
    "    pop.append(Data(BaseDirectory,maxP=2,popidx=a+1,perm=[1,3]))\n",
    "    pop[a].LoadContact2D(perm=1,phase=2)\n",
    "    pop[a].LoadContact2D(perm=3,phase=2)"
   ]
  },
  {
   "cell_type": "code",
   "execution_count": null,
   "metadata": {},
   "outputs": [],
   "source": [
    "# extracting contact points\n",
    "p1_contact = []\n",
    "p2_contact = []\n",
    "for p in pop:\n",
    "      p1_contact.append(len(p.ContactPoints2D[0][1].get_path()))\n",
    "      p2_contact.append(len(p.ContactPoints2D[1][1].get_path()))\n",
    "\n",
    "p1_contact = np.array(p1_contact)\n",
    "p2_contact = np.array(p2_contact)\n",
    "print(p1_contact)\n",
    "print(p2_contact)"
   ]
  },
  {
   "cell_type": "markdown",
   "metadata": {},
   "source": [
    "Histogram of Contact"
   ]
  },
  {
   "cell_type": "code",
   "execution_count": null,
   "metadata": {},
   "outputs": [],
   "source": [
    "# histogram of contact count by phase\n",
    "fig, ax = plt.subplots(1,1,figsize=(8,5))\n",
    "ax.hist([p1_contact,p2_contact],bins=4,range=(0,4),align='left',rwidth=.75,\n",
    "        color=['silver','k'],label=[\"$P=1$\",\"$P=2$\"]\n",
    "        )\n",
    "ax.set_xticks([0,1,2,3])\n",
    "ax.set_yticks(np.arange(0,5))\n",
    "ax.set_xlabel(\"Contacts per Phase\")\n",
    "ax.set_ylabel(\"Frequency\")\n",
    "ax.legend(loc=\"upper left\")\n",
    "\n",
    "# os.chdir(BaseDirectory)\n",
    "# fig.savefig('./Plots/P2-contact_hist.pdf',format=\"pdf\",bbox_inches=\"tight\",dpi=600)\n",
    "# fig.savefig('./Plots/P2-contact_hist.jpeg',bbox_inches=\"tight\",dpi=600)\n",
    "plt.show()"
   ]
  },
  {
   "cell_type": "markdown",
   "metadata": {},
   "source": [
    "Demonstration of Types"
   ]
  },
  {
   "cell_type": "code",
   "execution_count": null,
   "metadata": {},
   "outputs": [],
   "source": [
    "# type lists (see behavioural survey for evidence)\n",
    "step = [[1,1],[2,4],[5,2],[6,5],[8,3]] # agent idx paired with stepping neuron\n",
    "basin = [3,4,7,9]"
   ]
  },
  {
   "cell_type": "code",
   "execution_count": null,
   "metadata": {},
   "outputs": [],
   "source": [
    "step = Data(BaseDirectory,maxP=2,popidx=1,perm=[1,3])\n",
    "step.LoadReceiverActivation(perm=1,phase=2)\n",
    "step.LoadReceiverActivation(perm=3,phase=2)\n",
    "step.LoadContact2D(perm=1,phase=2)\n",
    "step.LoadContact2D(perm=3,phase=2)\n",
    "\n",
    "basin = Data(BaseDirectory,maxP=2,popidx=4,perm=[1,3])\n",
    "basin.LoadReceiverActivation(perm=1,phase=2)\n",
    "basin.LoadReceiverActivation(perm=3,phase=2)\n",
    "basin.LoadContact2D(perm=1,phase=2)\n",
    "basin.LoadContact2D(perm=3,phase=2)"
   ]
  },
  {
   "cell_type": "code",
   "execution_count": null,
   "metadata": {},
   "outputs": [],
   "source": [
    "# demonstration of step-type\n",
    "\n",
    "fig, axs = plt.subplots(2,1,figsize=(4,3),sharey=\"all\",sharex=\"all\")\n",
    "\n",
    "axs[0] = step.PlotReceiverActivation(axs[0],perm=1,phase=2)\n",
    "axs[0].vlines(step.ContactPoints2D[0][1].get_path().vertices[:,0],0,1,colors=[1,0,0],linewidth=.5)\n",
    "axs[0].hlines(0.165267,0,300,colors=\"0\",linestyles=\"dotted\")\n",
    "axs[1] = step.PlotReceiverActivation(axs[1],perm=3,phase=2)\n",
    "axs[1].hlines(0.165267,0,300,colors=\"0\",linestyles=\"dotted\")\n",
    "axs[1].vlines(step.ContactPoints2D[1][1].get_path().vertices[:,0],0,1,colors=[1,0,0],linewidth=.5)\n",
    "\n",
    "axs[0].tick_params(labelsize=8,length=3)\n",
    "axs[1].tick_params(labelsize=8,length=3)\n",
    "fig.supxlabel(\"Time\",fontsize=10,y=-.02)\n",
    "fig.supylabel(\"Activation\",fontsize=10)\n",
    "fig.subplots_adjust(hspace=.15)\n",
    "\n",
    "# os.chdir(BaseDirectory)\n",
    "# fig.savefig('./Plots/step-demo.pdf',format=\"pdf\",bbox_inches=\"tight\",dpi=600)\n",
    "# fig.savefig('./Plots/step-demo.jpeg',bbox_inches=\"tight\",dpi=600)\n",
    "\n",
    "plt.show()"
   ]
  },
  {
   "cell_type": "code",
   "execution_count": null,
   "metadata": {},
   "outputs": [],
   "source": [
    "# demonstration of basin-type\n",
    "\n",
    "fig, axs = plt.subplots(2,1,figsize=(4,3),sharey=\"all\",sharex=\"all\")\n",
    "\n",
    "axs[0] = basin.PlotReceiverActivation(axs[0],perm=1,phase=2)\n",
    "axs[0].vlines(basin.ContactPoints2D[0][1].get_path().vertices[:,0],0,1,colors=[1,0,0],linewidth=.5)\n",
    "axs[1] = basin.PlotReceiverActivation(axs[1],perm=3,phase=2)\n",
    "axs[1].vlines(basin.ContactPoints2D[1][1].get_path().vertices[:,0],0,1,colors=[1,0,0],linewidth=.5)\n",
    "\n",
    "axs[0].tick_params(labelsize=8,length=3)\n",
    "axs[1].tick_params(labelsize=8,length=3)\n",
    "fig.supxlabel(\"Time\",fontsize=10,y=-.02)\n",
    "fig.supylabel(\"Activation\",fontsize=10)\n",
    "fig.subplots_adjust(hspace=.15)\n",
    "\n",
    "# os.chdir(BaseDirectory)\n",
    "# fig.savefig('./Plots/basin-demo.pdf',format=\"pdf\",bbox_inches=\"tight\",dpi=600)\n",
    "# fig.savefig('./Plots/basin-demo.jpeg',bbox_inches=\"tight\",dpi=600)\n",
    "\n",
    "plt.show()"
   ]
  },
  {
   "cell_type": "markdown",
   "metadata": {},
   "source": [
    "Annotated Heatmap of Contact Points"
   ]
  },
  {
   "cell_type": "code",
   "execution_count": null,
   "metadata": {},
   "outputs": [],
   "source": [
    "# annotated heatmap of contact points\n",
    "\n",
    "fig = plt.figure(layout='constrained')\n",
    "\n",
    "ax = fig.add_gridspec(top=0.75, right=0.75).subplots()\n",
    "ax.set(aspect=1)\n",
    "\n",
    "# plot pairwise contact data\n",
    "p12 = [[p1_contact[i],p2_contact[i]] for i in range(len(pop))]\n",
    "arr = np.zeros(shape=(4,4))\n",
    "for idx in p12: arr[tuple(idx)] += 1\n",
    "im = ax.imshow(arr.transpose())\n",
    "\n",
    "# plot styling\n",
    "ax.set_xlim([-.5,3.5])\n",
    "ax.set_ylim([-.5,3.5])\n",
    "ax.set_xticks(np.arange(0,4))\n",
    "ax.set_yticks(np.arange(0,4))\n",
    "ax.set_xlabel(\"$P=1$\")\n",
    "ax.set_ylabel(\"$P=2$\")\n",
    "\n",
    "# plot population indices on heatmap\n",
    "text = np.array([[None,None,None,\"$6_s$\"],\n",
    "                [None,\"$9_b$\",\"$3_b,8_s$\",\"$1_s$\"],\n",
    "                [None,None,None,\"$2_s,4_b$\"],\n",
    "                [\"$7_b$\",None,None,\"$5_s$\"]]\n",
    "                )\n",
    "\n",
    "for i in range(4):\n",
    "    for j in range(4):\n",
    "        ax.text(j,i,text[i,j],ha=\"center\",va=\"center\",\n",
    "        color=\"0\",fontsize=12,weight=700)\n",
    "\n",
    "\n",
    "# color bar\n",
    "cax = ax.inset_axes([1.02,0,.075,1])\n",
    "cax.yaxis.tick_right()\n",
    "cmap = mpl.cm.viridis\n",
    "bounds = np.linspace(-1,3,4)\n",
    "norm = mpl.colors.BoundaryNorm(bounds,cmap.N)\n",
    "cb = plt.colorbar(im, cax=cax,ax=ax,\n",
    "        norm=norm,boundaries=bounds,spacing='uniform')\n",
    "cb.ax.set_yticks(np.linspace(-1,3,7)[1:7:2])\n",
    "cb.ax.set_yticklabels([0,1,2])\n",
    "\n",
    "# os.chdir(BaseDirectory)\n",
    "# fig.savefig('./Plots/P2-contact-annotated.pdf',format=\"pdf\",bbox_inches=\"tight\",dpi=600)\n",
    "# fig.savefig('./Plots/P2-contact_heatmap-annotated.jpeg',bbox_inches=\"tight\",dpi=600)\n",
    "plt.show()"
   ]
  },
  {
   "cell_type": "markdown",
   "metadata": {},
   "source": [
    "# Parameter Space"
   ]
  },
  {
   "cell_type": "markdown",
   "metadata": {},
   "source": [
    "Connection Weights for Nine Unique Solutions"
   ]
  },
  {
   "cell_type": "code",
   "execution_count": null,
   "metadata": {},
   "outputs": [],
   "source": [
    "# reading weight matrices\n",
    "\n",
    "os.chdir(BaseDirectory)\n",
    "os.chdir(\"./EvoP2\")\n",
    "w = []\n",
    "for a in range(9):\n",
    "    os.chdir(\"./Pop-\"+str(a+1))\n",
    "    weights = np.loadtxt(\"phenotype.dat\",dtype=float,delimiter=\" \",\n",
    "                     skiprows=2,max_rows=5,usecols=np.arange(0,5))\n",
    "    w.append(np.flipud(np.swapaxes(weights,1,0)))\n",
    "    os.chdir(\"../\")"
   ]
  },
  {
   "cell_type": "code",
   "execution_count": null,
   "metadata": {},
   "outputs": [],
   "source": [
    "# plotting weight matrix heatmaps\n",
    "\n",
    "fig, axs = plt.subplots(3,3,figsize=(12,10),sharex=\"all\",sharey=\"all\")\n",
    "\n",
    "i = 1\n",
    "for ax in np.ravel(axs):\n",
    "    im = ax.imshow(w[i-1],vmin=-16,vmax=16,extent=(.5,5.5,.5,5.5))\n",
    "\n",
    "    ax.set_xlim([.5,5.5])\n",
    "    ax.set_ylim([.5,5.5])\n",
    "    ax.set_xticks(np.arange(1,6))\n",
    "    ax.set_yticks(np.arange(1,6))\n",
    "    \n",
    "    ax.set_title(\"Agent \"+str(i))\n",
    "    i += 1\n",
    "    continue\n",
    "\n",
    "axs[1,0].set_ylabel(\"To\")\n",
    "axs[2,1].set_xlabel(\"From\")\n",
    "\n",
    "fig.colorbar(im,ax=axs,fraction=.1,anchor=(2,0))\n",
    "fig.subplots_adjust(hspace=.2,wspace=-.4)\n",
    "\n",
    "# os.chdir(BaseDirectory)\n",
    "# fig.savefig(\"./Plots/WeightMatrices.jpeg\",dpi=600,bbox_inches=\"tight\")\n",
    "plt.show()"
   ]
  },
  {
   "cell_type": "markdown",
   "metadata": {},
   "source": [
    "Time-constants"
   ]
  },
  {
   "cell_type": "code",
   "execution_count": null,
   "metadata": {},
   "outputs": [],
   "source": [
    "# time constant\n",
    "\n",
    "taus = np.empty((5,9),dtype=float)\n",
    "col = []\n",
    "os.chdir(BaseDirectory)\n",
    "os.chdir(\"./EvoP2\")\n",
    "for i in range(9):\n",
    "    os.chdir(\"./Pop-\"+str(i+1))\n",
    "    tau = np.loadtxt(\"phenotype.dat\",delimiter=\" \",max_rows=1,usecols=np.arange(0,5))\n",
    "    taus[:,i] = tau\n",
    "    os.chdir(\"../\")\n",
    "    col.append(\"Agent\"+str(i+1))\n",
    "\n",
    "taus = pd.DataFrame(taus,\n",
    "            index=[\"tau1\",\"tau2\",\"tau3\",\"tau4\",\"tau5\"],columns=col)\n",
    "taus"
   ]
  },
  {
   "cell_type": "code",
   "execution_count": null,
   "metadata": {},
   "outputs": [],
   "source": [
    "# agents with step dynamics\n",
    "step = [[1,1],[2,4],[5,2],[6,5],[8,3]]\n",
    "mean_tau = 0\n",
    "\n",
    "print(\"Agent \",\"\\tStep N \",\" Tau\")\n",
    "for a in step:\n",
    "    print(\"Agent \"+str(a[0])+\": \",\"N\"+str(a[1])+\"\\t\",taus[\"Agent\"+str(a[0])][a[1]-1])\n",
    "    mean_tau += taus[\"Agent\"+str(a[0])][a[1]-1]\n",
    "print(\"Average: \",mean_tau/len(step))"
   ]
  }
 ],
 "metadata": {
  "kernelspec": {
   "display_name": "base",
   "language": "python",
   "name": "python3"
  },
  "language_info": {
   "codemirror_mode": {
    "name": "ipython",
    "version": 3
   },
   "file_extension": ".py",
   "mimetype": "text/x-python",
   "name": "python",
   "nbconvert_exporter": "python",
   "pygments_lexer": "ipython3",
   "version": "3.11.3"
  },
  "orig_nbformat": 4
 },
 "nbformat": 4,
 "nbformat_minor": 2
}
